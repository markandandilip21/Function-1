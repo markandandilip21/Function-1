{
 "cells": [
  {
   "cell_type": "code",
   "execution_count": 4,
   "id": "15b47a21",
   "metadata": {},
   "outputs": [
    {
     "name": "stdout",
     "output_type": "stream",
     "text": [
      "Enter the list of numbers: 8,3,2,0,7\n",
      "Sum of numbers: 20\n"
     ]
    }
   ],
   "source": [
    "def sum_of_numbers(number_list):\n",
    "    total_sum = 0\n",
    "    for num in number_list:\n",
    "        if num.strip().isdigit():\n",
    "            total_sum += int(num.strip())\n",
    "        else:\n",
    "            print(\"Invalid input format. Please enter valid numbers separated by commas.\")\n",
    "            exit()\n",
    "    return total_sum\n",
    "user_input = input(\"Enter the list of numbers: \")\n",
    "user_input_list = user_input.split(',')\n",
    "result = sum_of_numbers(user_input_list)\n",
    "print(\"Sum of numbers:\", result)\n"
   ]
  },
  {
   "cell_type": "code",
   "execution_count": null,
   "id": "b5d7e1cd",
   "metadata": {},
   "outputs": [],
   "source": []
  }
 ],
 "metadata": {
  "kernelspec": {
   "display_name": "Python 3 (ipykernel)",
   "language": "python",
   "name": "python3"
  },
  "language_info": {
   "codemirror_mode": {
    "name": "ipython",
    "version": 3
   },
   "file_extension": ".py",
   "mimetype": "text/x-python",
   "name": "python",
   "nbconvert_exporter": "python",
   "pygments_lexer": "ipython3",
   "version": "3.10.9"
  }
 },
 "nbformat": 4,
 "nbformat_minor": 5
}
